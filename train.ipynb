{
 "cells": [
  {
   "cell_type": "code",
   "execution_count": 1,
   "metadata": {},
   "outputs": [
    {
     "name": "stderr",
     "output_type": "stream",
     "text": [
      "Using TensorFlow backend.\n"
     ]
    }
   ],
   "source": [
    "import matplotlib\n",
    "\n",
    "from keras.preprocessing.image import ImageDataGenerator,img_to_array\n",
    "from keras.optimizers import Adam\n",
    "from sklearn.preprocessing import MultiLabelBinarizer\n",
    "from sklearn.model_selection import train_test_split\n",
    "from model.small_vggnet import SmallerVggNet\n",
    "import matplotlib.pyplot as plt\n",
    "from imutils import paths\n",
    "import numpy as np\n",
    "import random\n",
    "import cv2\n",
    "import os"
   ]
  },
  {
   "cell_type": "code",
   "execution_count": 2,
   "metadata": {},
   "outputs": [],
   "source": [
    "EPOCH = 30\n",
    "INIT_LR = 1e-3\n",
    "BS = 32\n",
    "IMAGE_DIMS = (96,96,3)\n",
    "\n"
   ]
  },
  {
   "cell_type": "markdown",
   "metadata": {},
   "source": [
    "##### Data preprocessing\n"
   ]
  },
  {
   "cell_type": "code",
   "execution_count": 3,
   "metadata": {},
   "outputs": [],
   "source": [
    "imagePaths = sorted(list(paths.list_images(r'C:\\Users\\prith\\Multi_Label_classification\\dataset')))\n",
    "random.seed(42)\n",
    "random.shuffle(imagePaths)\n",
    "\n",
    "data = []\n",
    "labels = []\n",
    "\n",
    "for imagePath in imagePaths:\n",
    "    image = cv2.imread(imagePath)\n",
    "    image = cv2.resize(image,(IMAGE_DIMS[1],IMAGE_DIMS[0]))\n",
    "    image = img_to_array(image)\n",
    "    data.append(image)\n",
    "    \n",
    "    l = label = imagePath.split(os.path.sep)[-2].split(\" \")\n",
    "    labels.append(l)\n",
    "    \n",
    "data = np.array(data,dtype='float') / 255.0\n",
    "labels = np.array(labels)\n"
   ]
  },
  {
   "cell_type": "code",
   "execution_count": 4,
   "metadata": {},
   "outputs": [
    {
     "name": "stdout",
     "output_type": "stream",
     "text": [
      "class labels:\n",
      "1.black_jeans\n",
      "2.black_shirt\n",
      "3.blue_jeans\n",
      "4.blue_shirt\n"
     ]
    }
   ],
   "source": [
    "#label binarizer\n",
    "\n",
    "print(\"class labels:\")\n",
    "mlb = MultiLabelBinarizer()\n",
    "labels = mlb.fit_transform(labels)\n",
    "\n",
    "for i,label in enumerate(mlb.classes_):\n",
    "    print(\"{}.{}\".format(i+1,label))"
   ]
  },
  {
   "cell_type": "code",
   "execution_count": 5,
   "metadata": {},
   "outputs": [],
   "source": [
    "(xtrain,xtest,ytrain,ytest) = train_test_split(data,labels,test_size=0.2,random_state=42)"
   ]
  },
  {
   "cell_type": "code",
   "execution_count": 6,
   "metadata": {},
   "outputs": [],
   "source": [
    "aug = ImageDataGenerator(rotation_range=25,width_shift_range=0.1,height_shift_range=0.1,\n",
    "                        shear_range=0.2,zoom_range=0.2,fill_mode='nearest')"
   ]
  },
  {
   "cell_type": "markdown",
   "metadata": {},
   "source": [
    "##### model training"
   ]
  },
  {
   "cell_type": "code",
   "execution_count": null,
   "metadata": {
    "scrolled": false
   },
   "outputs": [
    {
     "name": "stdout",
     "output_type": "stream",
     "text": [
      "Model: \"sequential_1\"\n",
      "_________________________________________________________________\n",
      "Layer (type)                 Output Shape              Param #   \n",
      "=================================================================\n",
      "conv2d_1 (Conv2D)            (None, 96, 96, 32)        896       \n",
      "_________________________________________________________________\n",
      "activation_1 (Activation)    (None, 96, 96, 32)        0         \n",
      "_________________________________________________________________\n",
      "batch_normalization_1 (Batch (None, 96, 96, 32)        128       \n",
      "_________________________________________________________________\n",
      "max_pooling2d_1 (MaxPooling2 (None, 32, 32, 32)        0         \n",
      "_________________________________________________________________\n",
      "dropout_1 (Dropout)          (None, 32, 32, 32)        0         \n",
      "_________________________________________________________________\n",
      "conv2d_2 (Conv2D)            (None, 32, 32, 64)        18496     \n",
      "_________________________________________________________________\n",
      "activation_2 (Activation)    (None, 32, 32, 64)        0         \n",
      "_________________________________________________________________\n",
      "batch_normalization_2 (Batch (None, 32, 32, 64)        256       \n",
      "_________________________________________________________________\n",
      "conv2d_3 (Conv2D)            (None, 32, 32, 64)        36928     \n",
      "_________________________________________________________________\n",
      "activation_3 (Activation)    (None, 32, 32, 64)        0         \n",
      "_________________________________________________________________\n",
      "batch_normalization_3 (Batch (None, 32, 32, 64)        256       \n",
      "_________________________________________________________________\n",
      "max_pooling2d_2 (MaxPooling2 (None, 16, 16, 64)        0         \n",
      "_________________________________________________________________\n",
      "dropout_2 (Dropout)          (None, 16, 16, 64)        0         \n",
      "_________________________________________________________________\n",
      "conv2d_4 (Conv2D)            (None, 16, 16, 128)       73856     \n",
      "_________________________________________________________________\n",
      "activation_4 (Activation)    (None, 16, 16, 128)       0         \n",
      "_________________________________________________________________\n",
      "batch_normalization_4 (Batch (None, 16, 16, 128)       512       \n",
      "_________________________________________________________________\n",
      "conv2d_5 (Conv2D)            (None, 16, 16, 128)       147584    \n",
      "_________________________________________________________________\n",
      "activation_5 (Activation)    (None, 16, 16, 128)       0         \n",
      "_________________________________________________________________\n",
      "batch_normalization_5 (Batch (None, 16, 16, 128)       512       \n",
      "_________________________________________________________________\n",
      "max_pooling2d_3 (MaxPooling2 (None, 8, 8, 128)         0         \n",
      "_________________________________________________________________\n",
      "dropout_3 (Dropout)          (None, 8, 8, 128)         0         \n",
      "_________________________________________________________________\n",
      "flatten_1 (Flatten)          (None, 8192)              0         \n",
      "_________________________________________________________________\n",
      "dense_1 (Dense)              (None, 1024)              8389632   \n",
      "_________________________________________________________________\n",
      "activation_6 (Activation)    (None, 1024)              0         \n",
      "_________________________________________________________________\n",
      "batch_normalization_6 (Batch (None, 1024)              4096      \n",
      "_________________________________________________________________\n",
      "dropout_4 (Dropout)          (None, 1024)              0         \n",
      "_________________________________________________________________\n",
      "dense_2 (Dense)              (None, 4)                 4100      \n",
      "_________________________________________________________________\n",
      "activation_7 (Activation)    (None, 4)                 0         \n",
      "=================================================================\n",
      "Total params: 8,677,252\n",
      "Trainable params: 8,674,372\n",
      "Non-trainable params: 2,880\n",
      "_________________________________________________________________\n",
      "Epoch 1/30\n",
      "26/26 [==============================] - 7s 279ms/step - loss: 0.7077 - accuracy: 0.7006 - val_loss: 0.6272 - val_accuracy: 0.7140\n",
      "Epoch 2/30\n",
      "26/26 [==============================] - 2s 63ms/step - loss: 0.5023 - accuracy: 0.7927 - val_loss: 0.9035 - val_accuracy: 0.6000\n",
      "Epoch 3/30\n",
      "26/26 [==============================] - 2s 63ms/step - loss: 0.4091 - accuracy: 0.8359 - val_loss: 0.9136 - val_accuracy: 0.6500\n",
      "Epoch 4/30\n",
      "26/26 [==============================] - 2s 59ms/step - loss: 0.3486 - accuracy: 0.8591 - val_loss: 1.2011 - val_accuracy: 0.5988\n",
      "Epoch 5/30\n",
      "26/26 [==============================] - 2s 60ms/step - loss: 0.3169 - accuracy: 0.8718 - val_loss: 1.3106 - val_accuracy: 0.6000\n",
      "Epoch 6/30\n",
      "26/26 [==============================] - 2s 62ms/step - loss: 0.3229 - accuracy: 0.8758 - val_loss: 1.5879 - val_accuracy: 0.6035\n",
      "Epoch 7/30\n",
      "26/26 [==============================] - 2s 62ms/step - loss: 0.2771 - accuracy: 0.8858 - val_loss: 1.3534 - val_accuracy: 0.6047\n",
      "Epoch 8/30\n",
      "26/26 [==============================] - 2s 62ms/step - loss: 0.2435 - accuracy: 0.9027 - val_loss: 1.4265 - val_accuracy: 0.6058\n",
      "Epoch 9/30\n",
      "26/26 [==============================] - 2s 67ms/step - loss: 0.2259 - accuracy: 0.9075 - val_loss: 1.2479 - val_accuracy: 0.6221\n",
      "Epoch 10/30\n",
      "26/26 [==============================] - 2s 63ms/step - loss: 0.2790 - accuracy: 0.8885 - val_loss: 0.6473 - val_accuracy: 0.7291\n",
      "Epoch 11/30\n",
      "26/26 [==============================] - 2s 61ms/step - loss: 0.2192 - accuracy: 0.9184 - val_loss: 0.6086 - val_accuracy: 0.7442\n",
      "Epoch 12/30\n",
      "26/26 [==============================] - 2s 62ms/step - loss: 0.2055 - accuracy: 0.9161 - val_loss: 0.9145 - val_accuracy: 0.7419\n",
      "Epoch 13/30\n",
      "26/26 [==============================] - 2s 62ms/step - loss: 0.2455 - accuracy: 0.9014 - val_loss: 0.9399 - val_accuracy: 0.6849\n",
      "Epoch 14/30\n",
      "26/26 [==============================] - 2s 63ms/step - loss: 0.2110 - accuracy: 0.9133 - val_loss: 0.8972 - val_accuracy: 0.6930\n",
      "Epoch 15/30\n",
      "26/26 [==============================] - 2s 64ms/step - loss: 0.2057 - accuracy: 0.9170 - val_loss: 0.9934 - val_accuracy: 0.6802\n",
      "Epoch 16/30\n",
      "26/26 [==============================] - 2s 61ms/step - loss: 0.2117 - accuracy: 0.9184 - val_loss: 0.5564 - val_accuracy: 0.7535\n",
      "Epoch 17/30\n",
      "26/26 [==============================] - 2s 62ms/step - loss: 0.1809 - accuracy: 0.9273 - val_loss: 0.3385 - val_accuracy: 0.8547\n",
      "Epoch 18/30\n",
      "26/26 [==============================] - 2s 64ms/step - loss: 0.1996 - accuracy: 0.9194 - val_loss: 0.3311 - val_accuracy: 0.8663\n",
      "Epoch 19/30\n",
      "26/26 [==============================] - 2s 62ms/step - loss: 0.1901 - accuracy: 0.9273 - val_loss: 0.7718 - val_accuracy: 0.7105\n",
      "Epoch 20/30\n",
      "26/26 [==============================] - 2s 62ms/step - loss: 0.1776 - accuracy: 0.9300 - val_loss: 0.6588 - val_accuracy: 0.7547\n",
      "Epoch 21/30\n",
      "26/26 [==============================] - 2s 63ms/step - loss: 0.1885 - accuracy: 0.9288 - val_loss: 0.6013 - val_accuracy: 0.8430\n",
      "Epoch 22/30\n",
      "26/26 [==============================] - 2s 62ms/step - loss: 0.1629 - accuracy: 0.9379 - val_loss: 0.4142 - val_accuracy: 0.8686\n",
      "Epoch 23/30\n",
      "26/26 [==============================] - 2s 62ms/step - loss: 0.1819 - accuracy: 0.9267 - val_loss: 0.3134 - val_accuracy: 0.8942\n",
      "Epoch 24/30\n",
      "26/26 [==============================] - 2s 63ms/step - loss: 0.1647 - accuracy: 0.9339 - val_loss: 0.8143 - val_accuracy: 0.8709\n",
      "Epoch 25/30\n",
      "26/26 [==============================] - 2s 67ms/step - loss: 0.1723 - accuracy: 0.9327 - val_loss: 0.5801 - val_accuracy: 0.8174\n",
      "Epoch 26/30\n",
      "26/26 [==============================] - 2s 64ms/step - loss: 0.1758 - accuracy: 0.9342 - val_loss: 0.3253 - val_accuracy: 0.8860\n",
      "Epoch 27/30\n",
      "26/26 [==============================] - 2s 64ms/step - loss: 0.1936 - accuracy: 0.9309 - val_loss: 0.2566 - val_accuracy: 0.9058\n",
      "Epoch 28/30\n",
      "26/26 [==============================] - 2s 60ms/step - loss: 0.1660 - accuracy: 0.9367 - val_loss: 0.2618 - val_accuracy: 0.9128\n",
      "Epoch 29/30\n",
      "26/26 [==============================] - 2s 61ms/step - loss: 0.1574 - accuracy: 0.9397 - val_loss: 0.3681 - val_accuracy: 0.8884\n",
      "Epoch 30/30\n"
     ]
    },
    {
     "name": "stdout",
     "output_type": "stream",
     "text": [
      " 3/26 [==>...........................] - ETA: 1s - loss: 0.1255 - accuracy: 0.9579"
     ]
    }
   ],
   "source": [
    "model = SmallerVggNet.build(width=IMAGE_DIMS[1],height=IMAGE_DIMS[0],depth=IMAGE_DIMS[2],classes=len(mlb.classes_),finalAct='sigmoid')\n",
    "opt = Adam(learning_rate=INIT_LR,decay=INIT_LR/EPOCH)\n",
    "model.compile(loss='binary_crossentropy',optimizer=opt,metrics=['accuracy'])\n",
    "model.summary()\n",
    "history = model.fit(x=aug.flow(xtrain,ytrain,batch_size=BS),validation_data=(xtest,ytest),steps_per_epoch=len(xtrain)//BS,epochs=EPOCH,verbose=1)"
   ]
  },
  {
   "cell_type": "markdown",
   "metadata": {},
   "source": [
    "##### saving model and label binarizer to disk"
   ]
  },
  {
   "cell_type": "code",
   "execution_count": null,
   "metadata": {},
   "outputs": [],
   "source": [
    "model.save_weights('multiclass_img_classifier.h5')"
   ]
  },
  {
   "cell_type": "code",
   "execution_count": null,
   "metadata": {},
   "outputs": [],
   "source": [
    "plt.style.use(\"ggplot\")\n",
    "plt.figure()\n",
    "N = EPOCH\n",
    "plt.plot(np.arange(0, N), history.history[\"loss\"],'r--', label=\"train_loss\")\n",
    "plt.plot(np.arange(0, N), history.history[\"val_loss\"],'b--', label=\"val_loss\")\n",
    "plt.plot(np.arange(0, N), history.history[\"accuracy\"],'r', label=\"train_acc\")\n",
    "plt.plot(np.arange(0, N), history.history[\"val_accuracy\"],'b', label=\"val_acc\")\n",
    "plt.title(\"Training Loss and Accuracy\")\n",
    "plt.xlabel(\"Epoch #\")\n",
    "plt.ylabel(\"Loss/Accuracy\")\n",
    "plt.legend(loc=\"best\")\n",
    "plt.savefig(r'C:\\Users\\prith\\Multi_Label_classification\\plot.png')\n",
    "plt.show()"
   ]
  },
  {
   "cell_type": "code",
   "execution_count": null,
   "metadata": {},
   "outputs": [],
   "source": [
    "import imutils"
   ]
  },
  {
   "cell_type": "code",
   "execution_count": null,
   "metadata": {},
   "outputs": [],
   "source": [
    "img = r'C:\\Users\\prith\\Multi_Label_classification\\examples\\6.jpg'\n",
    "image = cv2.imread(img)\n",
    "image = cv2.resize(image,(96,96))\n",
    "image = image.astype('float')/255.0\n",
    "image = img_to_array(image)\n",
    "image = np.expand_dims(image,axis=0)"
   ]
  },
  {
   "cell_type": "code",
   "execution_count": null,
   "metadata": {},
   "outputs": [],
   "source": [
    "proba = model.predict(image)[0]"
   ]
  },
  {
   "cell_type": "code",
   "execution_count": null,
   "metadata": {},
   "outputs": [],
   "source": [
    "idxs = np.argsort(proba)[::-1][:2]"
   ]
  },
  {
   "cell_type": "code",
   "execution_count": null,
   "metadata": {},
   "outputs": [],
   "source": [
    "img = cv2.imread(img)\n",
    "output = imutils.resize(img,width=400)"
   ]
  },
  {
   "cell_type": "code",
   "execution_count": null,
   "metadata": {},
   "outputs": [],
   "source": [
    "from PIL import Image\n",
    "op = r'C:\\Users\\prith\\Multi_Label_classification\\examples\\6.jpg'"
   ]
  },
  {
   "cell_type": "code",
   "execution_count": null,
   "metadata": {},
   "outputs": [],
   "source": [
    "for (i,j) in enumerate(idxs):\n",
    "    label = \"{}: {:.2f}%\".format(mlb.classes_[j], proba[j] * 100)\n",
    "    cv2.putText(output, label, (10, (i * 30) + 25),cv2.FONT_HERSHEY_SIMPLEX, 0.7, (0, 255, 0), 2)\n",
    "    \n",
    "for (label,p) in zip(mlb.classes_,proba):\n",
    "    print(\"{}: {:.2f}%\".format(label, p * 100))\n",
    "    \n",
    "Image.open(op)"
   ]
  },
  {
   "cell_type": "code",
   "execution_count": null,
   "metadata": {},
   "outputs": [],
   "source": []
  }
 ],
 "metadata": {
  "kernelspec": {
   "display_name": "Python 3",
   "language": "python",
   "name": "python3"
  },
  "language_info": {
   "codemirror_mode": {
    "name": "ipython",
    "version": 3
   },
   "file_extension": ".py",
   "mimetype": "text/x-python",
   "name": "python",
   "nbconvert_exporter": "python",
   "pygments_lexer": "ipython3",
   "version": "3.7.7"
  }
 },
 "nbformat": 4,
 "nbformat_minor": 4
}
